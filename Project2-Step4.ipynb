{
 "cells": [
  {
   "cell_type": "code",
   "execution_count": 1,
   "id": "e7a00668",
   "metadata": {},
   "outputs": [],
   "source": [
    "import cantera as ct    # import cantera\n",
    "import math             # import math (sqrt, exp, etc.)\n",
    "from scipy.integrate import solve_ivp  # solves ODE (initial value problems)\n",
    "import scipy.integrate as integrate\n",
    "import matplotlib.pyplot as plt      # does matlab-like plotting\n",
    "import numpy as np                    # does a bunch of array stuff"
   ]
  },
  {
   "cell_type": "code",
   "execution_count": 2,
   "id": "6d56c87e",
   "metadata": {},
   "outputs": [],
   "source": [
    "from scipy.integrate._ivp.rk import OdeSolver  # this is the class we will monkey patch\n",
    "\n",
    "from tqdm import tqdm\n",
    "\n",
    "### monkey patching the ode solvers with a progress bar\n",
    "\n",
    "# save the old methods - we still need them\n",
    "old_init = OdeSolver.__init__\n",
    "old_step = OdeSolver.step\n",
    "\n",
    "# define our own methods\n",
    "def new_init(self, fun, t0, y0, t_bound, vectorized, support_complex=False):\n",
    "\n",
    "    # define the progress bar\n",
    "    self.pbar = tqdm(total=t_bound - t0, unit='ut', initial=t0, ascii=True, desc='IVP')\n",
    "    self.last_t = t0\n",
    "    \n",
    "    # call the old method - we still want to do the old things too!\n",
    "    old_init(self, fun, t0, y0, t_bound, vectorized, support_complex)\n",
    "\n",
    "\n",
    "def new_step(self):\n",
    "    # call the old method\n",
    "    old_step(self)\n",
    "    \n",
    "    # update the bar\n",
    "    tst = self.t - self.last_t\n",
    "    self.pbar.update(tst)\n",
    "    self.last_t = self.t\n",
    "\n",
    "    # close the bar if the end is reached\n",
    "    if self.t >= self.t_bound:\n",
    "        self.pbar.close()\n",
    "\n",
    "\n",
    "# overwrite the old methods with our customized ones\n",
    "OdeSolver.__init__ = new_init\n",
    "OdeSolver.step = new_step"
   ]
  },
  {
   "cell_type": "code",
   "execution_count": 3,
   "id": "88165c9a-aaa0-4cdc-9043-f6524fde4ee6",
   "metadata": {},
   "outputs": [],
   "source": [
    "gasAmbient = ct.Solution(\"gri30.yaml\")"
   ]
  },
  {
   "cell_type": "code",
   "execution_count": 4,
   "id": "6d972c34-e284-4b9e-80e8-4b65a4ba690f",
   "metadata": {},
   "outputs": [],
   "source": [
    "Tamb = 300 # kelvin\n",
    "Pamb = 101325 # Pa\n",
    "gasAmbient.TPX = Tamb, Pamb, {'O2':1, 'N2':3.76}"
   ]
  },
  {
   "cell_type": "code",
   "execution_count": 5,
   "id": "298c655f",
   "metadata": {},
   "outputs": [],
   "source": [
    "# definishions \n",
    "B = 0.082 #m        # bore (diameter of piston)\n",
    "L = 0.14554 #m    # connection rod length\n",
    "S = 0.0904 #m      # stroke length\n",
    "Cr = 16.7      # compression ratio\n",
    "intake_rise_factor = 20 \n",
    "intake_open_angle = 0 # deg\n",
    "intake_close_angle = 220 # deg\n",
    "exhaust_rise_factor = 20\n",
    "exhaust_open_angle = 0\n",
    "exhaust_close_angle = 720\n",
    "intake_max_area = 0.001478684 \n",
    "exhaust_max_area = 0.00078581\n",
    "\n",
    "Ap = (np.pi/4)*(B**2)                                                                       # piston area equation\n",
    "Vd = S*Ap                                                                                # displacement volume \n",
    "Vc = Vd/(Cr - 1)                                                                         # clearance volume\n",
    "R = S/2                                                                                  # length of crank arm\n",
    "\n",
    "theta = 0          # initial crank angle\n",
    "\n",
    "N = 2500              # engine speed"
   ]
  },
  {
   "cell_type": "code",
   "execution_count": 6,
   "id": "73832c1b-6c16-432e-b29c-691be8ce77c8",
   "metadata": {},
   "outputs": [],
   "source": [
    "def intake_valve_area(theta):\n",
    "    theta_shift = 360.\n",
    "    t = (theta + theta_shift) % 720\n",
    "    to_rel = intake_open_angle + theta_shift\n",
    "    tc_rel = intake_close_angle + theta_shift\n",
    "    \n",
    "    y = intake_max_area*0.5*(\n",
    "    np.tanh((t - to_rel)/intake_rise_factor) -\n",
    "    np.tanh((t - tc_rel)/intake_rise_factor))\n",
    "    return y\n",
    "\n",
    "def exhaust_valve_area(theta):\n",
    "    theta_shift = 360.\n",
    "    t = (theta + theta_shift) % 720\n",
    "    to_rel = exhaust_open_angle - theta_shift\n",
    "    tc_rel = exhaust_close_angle - theta_shift\n",
    "    \n",
    "    y = exhaust_max_area*0.5*(\n",
    "    np.tanh((t - to_rel)/exhaust_rise_factor) -\n",
    "    np.tanh((t - tc_rel)/exhaust_rise_factor))\n",
    "    return y"
   ]
  },
  {
   "cell_type": "code",
   "execution_count": 7,
   "id": "a4c1ba21-d1f7-4039-a777-60107a38625c",
   "metadata": {},
   "outputs": [],
   "source": [
    "def getVolume(theta): \n",
    "    volume = Vc + Ap*(L + R + (R*math.cos(theta + np.pi)) - ((L**2)-((R**2)*(math.sin(theta + np.pi))**2))**0.5)  # volume eq\n",
    "    return volume"
   ]
  },
  {
   "cell_type": "code",
   "execution_count": 8,
   "id": "857696d8-2273-4fcc-95b9-ca5601227559",
   "metadata": {},
   "outputs": [],
   "source": [
    "def get_mdot(theta, density, temperature, gas, direction):    \n",
    "    # direction: 0 = inlet, else = outlet\n",
    "    if direction == 0:     # inlet\n",
    "        p0 = gasAmbient.P\n",
    "        pb = gas.P\n",
    "        Rc = gasAmbient.cp_mass - gasAmbient.cv_mass\n",
    "        A = intake_valve_area(np.degrees(theta))\n",
    "        γ = gasAmbient.cp / gasAmbient.cv \n",
    "        temperature = gasAmbient.T\n",
    "    else:                  # outlet\n",
    "        p0 = gas.P\n",
    "        pb = gasAmbient.P\n",
    "        Rc = gas.cp_mass - gas.cv_mass\n",
    "        A = exhaust_valve_area(np.degrees(theta))\n",
    "        γ = gas.cp / gas.cv\n",
    "    \n",
    "    A = 0\n",
    "    M = min(1, (((2*(max((((p0/pb)**((γ-1)/γ))-1),0)))/(γ-1))**0.5))                                 #mach number\n",
    "    lamb = (M*(γ**0.5))*((1+(((γ-1)/2)*(M**2)))**(-((γ+1)/(2*(γ-1)))))                          #lambda\n",
    "    mf = ((p0)/((Rc*temperature)**0.5))*lamb                                                 #mass flux\n",
    "    mdot = A*mf*2   #multiplied by 2 becuase of 2 valves?                                    #mass flow rate through valve\n",
    "    return mdot"
   ]
  },
  {
   "cell_type": "code",
   "execution_count": 9,
   "id": "5a2d7ab7",
   "metadata": {},
   "outputs": [],
   "source": [
    "def CV_Reactor_RHS(t,y,gas):\n",
    "    # t = time\n",
    "    # y = the solution vector: y[0] = temperature, y[1:nSpecies] = mass fractions\n",
    "    \n",
    "    dy = np.zeros(np.size(y)) # initialize the RHS vector\n",
    "    \n",
    "    T = y[0];\n",
    "    density = y[1];\n",
    "    massFrac = y[2:];\n",
    "    \n",
    "    tdot = ((2*np.pi)/60)*N\n",
    "    theta = tdot*t\n",
    "    volume = getVolume(theta)\n",
    "    mdot_in = get_mdot(theta, density, T, gas, 0) \n",
    "    mdot_out = get_mdot(theta, density, T, gas, 1) \n",
    "    hout = gas.enthalpy_mass\n",
    "    hin = gasAmbient.enthalpy_mass    # j/kmol\n",
    "    mdot = (mdot_in - mdot_out) \n",
    "    Qdot = 0\n",
    "    cv_mix = gas.cv_mass\n",
    "    u_mix = gas.int_energy_mass\n",
    "    mass = density * volume\n",
    "    Yi_in = gas.Y\n",
    "    \n",
    "    gas.set_unnormalized_mass_fractions(massFrac)\n",
    "    gas.TD=T, density \n",
    "    \n",
    "    \n",
    "    mws  = gas.molecular_weights                 # get the species MW_i\n",
    "    wdot = gas.net_production_rates * mws      # get the species MASS production rate\n",
    "    ui = gas.partial_molar_int_energies / mws      # get the species internal energy on a MASS basis\n",
    "                                                             \n",
    "        \n",
    "    dV_dt = tdot*Ap*R*math.sin(theta + np.pi)*(-1 + R*math.cos(theta + np.pi)/np.sqrt(L**2-(R*math.sin(theta + np.pi))**2))\n",
    "    dW_dt = gas.P * dV_dt\n",
    "    \n",
    "    # Governing equations\n",
    "    dYdt = ((volume/mass)*wdot)-((massFrac/mass)*mdot)+((1/mass)*(mdot_in*Yi_in))-((1/mass)*(mdot_out*massFrac))\n",
    "    dTdt = (-dW_dt + (hin*mdot_in) - (hout*mdot_out) - (mass*np.sum(ui*dYdt)) - (mdot*u_mix))/(mass*cv_mix)\n",
    "    drho_dt = ((1/volume) * mdot) - ((density / volume) * dV_dt)\n",
    "    \n",
    "    # stuff the temperature and mass fraction time derivatives into an array\n",
    "    dy[0] = dTdt\n",
    "    dy[1] = drho_dt\n",
    "    dy[2:] = dYdt\n",
    "    \n",
    "    return dy"
   ]
  },
  {
   "cell_type": "code",
   "execution_count": 10,
   "id": "9441b9e6",
   "metadata": {},
   "outputs": [],
   "source": [
    "def integrate_CV_reactor(gas, tEnd,atol=1.e-10, rtol=1.e-8):\n",
    "\n",
    "    # set the initial conditions for the reactor\n",
    "    y =  np.zeros(gas.n_species+2) \n",
    "    y[0] = gas.T\n",
    "    y[1] = gas.density_mass\n",
    "    y[2:] = gas.Y\n",
    "\n",
    "    # solve the ODEs for the reactor.  This is equivalent to ode15s in Matlab.\n",
    "    soln = integrate.solve_ivp(fun=lambda t, y: CV_Reactor_RHS(t,y,gas), \n",
    "                               t_span=[0,tEnd],y0=y,method='BDF',rtol=rtol,atol=atol);\n",
    "    return soln"
   ]
  },
  {
   "cell_type": "code",
   "execution_count": 11,
   "id": "ea2e4054",
   "metadata": {},
   "outputs": [],
   "source": [
    "gas = ct.Solution(\"gri30.yaml\")"
   ]
  },
  {
   "cell_type": "code",
   "execution_count": 12,
   "id": "ed262c3b",
   "metadata": {},
   "outputs": [
    {
     "name": "stdout",
     "output_type": "stream",
     "text": [
      "0.2167562193855446 101325.0\n"
     ]
    },
    {
     "name": "stderr",
     "output_type": "stream",
     "text": [
      "IVP: 100%|#########################################################################| 30.0/30.0 [01:20<00:00,  2.69s/ut]\n"
     ]
    }
   ],
   "source": [
    "# The initial conditions are based on the gas state.\n",
    "\n",
    "gas.TPX = 300, 101325, {'He':1}\n",
    "\n",
    "print(gas.density_mass, gas.P)\n",
    "\n",
    "# now integrate the ODEs\n",
    "soln = integrate_CV_reactor(gas, 30.)"
   ]
  },
  {
   "cell_type": "code",
   "execution_count": 13,
   "id": "18582b8d",
   "metadata": {},
   "outputs": [],
   "source": [
    "temp_index = 0\n",
    "OH_index = gas.species_index('OH') + 2 \n",
    "H2O_index = gas.species_index('H2O') + 2\n",
    "CO2_index = gas.species_index('CO2') + 2\n",
    "CH4_index = gas.species_index('CH4') + 2\n",
    "O2_index = gas.species_index('O2') + 2"
   ]
  },
  {
   "cell_type": "code",
   "execution_count": 14,
   "id": "606d84ed",
   "metadata": {},
   "outputs": [
    {
     "data": {
      "image/png": "[encoded data removed]",
      "text/plain": [
       "<Figure size 432x288 with 1 Axes>"
      ]
     },
     "metadata": {
      "needs_background": "light"
     },
     "output_type": "display_data"
    },
    {
     "data": {
      "image/png": "[encoded data removed]",
      "text/plain": [
       "<Figure size 432x288 with 1 Axes>"
      ]
     },
     "metadata": {
      "needs_background": "light"
     },
     "output_type": "display_data"
    }
   ],
   "source": [
    "# Now plot the solution.  Note: Cantera works in SI units, but I convert to ms in the line below. \n",
    "plt.semilogx(soln.t*1000, soln.y[temp_index,:])\n",
    "plt.xlabel('time (ms)')\n",
    "plt.ylabel('Temperature (K)')\n",
    "plt.show()\n",
    "\n",
    "\n",
    "# The first plot isn't very useful... even on a semilogx-scale... Lets zoom in to where the action is. \n",
    "plt.plot(soln.t*1000, soln.y[temp_index,:])\n",
    "plt.xlim(.20, .28)\n",
    "plt.xlabel('time (ms)')\n",
    "plt.ylabel('Temperature (K)')\n",
    "plt.show()\n",
    "\n",
    "    "
   ]
  }
 ],
 "metadata": {
  "kernelspec": {
   "display_name": "Python 3 (ipykernel)",
   "language": "python",
   "name": "python3"
  },
  "language_info": {
   "codemirror_mode": {
    "name": "ipython",
    "version": 3
   },
   "file_extension": ".py",
   "mimetype": "text/x-python",
   "name": "python",
   "nbconvert_exporter": "python",
   "pygments_lexer": "ipython3",
   "version": "3.9.6"
  }
 },
 "nbformat": 4,
 "nbformat_minor": 5
}
